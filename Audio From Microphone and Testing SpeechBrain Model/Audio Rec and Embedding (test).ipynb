{
 "cells": [
  {
   "cell_type": "code",
   "execution_count": 1,
   "id": "31b82c09-0e31-40eb-813e-7e79dc0df9ec",
   "metadata": {},
   "outputs": [],
   "source": [
    "import sounddevice as sd\n",
    "from scipy.io.wavfile import write"
   ]
  },
  {
   "cell_type": "code",
   "execution_count": 2,
   "id": "8b9ddd3b-47ec-41ff-a36e-8d26ecefc020",
   "metadata": {},
   "outputs": [
    {
     "name": "stdout",
     "output_type": "stream",
     "text": [
      " Speak now! Recording...\n",
      " Recording complete!\n",
      " Audio saved as: test.wav\n"
     ]
    }
   ],
   "source": [
    "fs = 16000          # Sampling rate (16kHz)\n",
    "duration = 5        # Recording duration in seconds\n",
    "filename = \"test.wav\"  # Desired fixed audio file name\n",
    "\n",
    "print(\" Speak now! Recording...\")\n",
    "audio = sd.rec(int(duration * fs), samplerate=fs, channels=1)\n",
    "sd.wait()\n",
    "print(\" Recording complete!\")\n",
    "\n",
    "write(filename, fs, audio)\n",
    "print(f\" Audio saved as: {filename}\")"
   ]
  },
  {
   "cell_type": "code",
   "execution_count": 3,
   "id": "47821e93-c483-4781-b548-863485ef323c",
   "metadata": {},
   "outputs": [
    {
     "name": "stdout",
     "output_type": "stream",
     "text": [
      "Loaded the voice encoder model on cpu in 0.03 seconds.\n",
      "Embedading saved!\n"
     ]
    }
   ],
   "source": [
    "import numpy as np\n",
    "import os \n",
    "from resemblyzer import VoiceEncoder, preprocess_wav\n",
    "\n",
    "audio_path = \"test.wav\"\n",
    "embedding_filename = \"test.npy\"\n",
    "\n",
    "if not os.path.exists(audio_path):\n",
    "    print(\"Audio file not found.\")\n",
    "    exit()\n",
    "\n",
    "# Encode\n",
    "wav = preprocess_wav(audio_path)\n",
    "encoder = VoiceEncoder()\n",
    "embedding = encoder.embed_utterance(wav)\n",
    "np.save(embedding_filename, embedding)\n",
    "\n",
    "print(\"Embedading saved!\")"
   ]
  },
  {
   "cell_type": "code",
   "execution_count": 4,
   "id": "10da32d5-0ba0-4154-91c1-57c62757ea2b",
   "metadata": {},
   "outputs": [
    {
     "name": "stdout",
     "output_type": "stream",
     "text": [
      "Current Directory: C:\\Users\\harsh\\Oizom Final\\Audio From Microphone and Testing SpeechBrain Model\n",
      "Files in this directory: ['.ipynb_checkpoints', 'Audio Rec and Embedding (Save).ipynb', 'Audio Rec and Embedding (test).ipynb', 'save.npy', 'save.wav', 'spkrec-ecapa-voxceleb model test.ipynb', 'test.npy', 'test.wav']\n"
     ]
    }
   ],
   "source": [
    "import os\n",
    "\n",
    "print(\"Current Directory:\", os.getcwd())\n",
    "print(\"Files in this directory:\", os.listdir())"
   ]
  },
  {
   "cell_type": "code",
   "execution_count": null,
   "id": "df11e990-c226-46f1-ae3f-c5e7bd5d4fe8",
   "metadata": {},
   "outputs": [],
   "source": []
  }
 ],
 "metadata": {
  "kernelspec": {
   "display_name": "Python 3 (ipykernel)",
   "language": "python",
   "name": "python3"
  },
  "language_info": {
   "codemirror_mode": {
    "name": "ipython",
    "version": 3
   },
   "file_extension": ".py",
   "mimetype": "text/x-python",
   "name": "python",
   "nbconvert_exporter": "python",
   "pygments_lexer": "ipython3",
   "version": "3.13.5"
  }
 },
 "nbformat": 4,
 "nbformat_minor": 5
}
