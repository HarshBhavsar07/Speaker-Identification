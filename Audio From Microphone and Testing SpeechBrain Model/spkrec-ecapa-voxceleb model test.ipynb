{
 "cells": [
  {
   "cell_type": "code",
   "execution_count": 1,
   "id": "a36f74f3-c791-4098-8a43-c762af1a177f",
   "metadata": {},
   "outputs": [
    {
     "name": "stdout",
     "output_type": "stream",
     "text": [
      "Requirement already satisfied: speechbrain in c:\\users\\harsh\\anaconda\\lib\\site-packages (1.0.3)\n",
      "Requirement already satisfied: torch in c:\\users\\harsh\\anaconda\\lib\\site-packages (2.8.0)\n",
      "Requirement already satisfied: torchaudio in c:\\users\\harsh\\anaconda\\lib\\site-packages (2.8.0)\n",
      "Requirement already satisfied: hyperpyyaml in c:\\users\\harsh\\anaconda\\lib\\site-packages (from speechbrain) (1.2.2)\n",
      "Requirement already satisfied: joblib in c:\\users\\harsh\\anaconda\\lib\\site-packages (from speechbrain) (1.4.2)\n",
      "Requirement already satisfied: numpy in c:\\users\\harsh\\anaconda\\lib\\site-packages (from speechbrain) (2.1.3)\n",
      "Requirement already satisfied: packaging in c:\\users\\harsh\\appdata\\roaming\\python\\python313\\site-packages (from speechbrain) (25.0)\n",
      "Requirement already satisfied: scipy in c:\\users\\harsh\\anaconda\\lib\\site-packages (from speechbrain) (1.15.3)\n",
      "Requirement already satisfied: sentencepiece in c:\\users\\harsh\\anaconda\\lib\\site-packages (from speechbrain) (0.2.1)\n",
      "Requirement already satisfied: tqdm in c:\\users\\harsh\\anaconda\\lib\\site-packages (from speechbrain) (4.67.1)\n",
      "Requirement already satisfied: huggingface_hub in c:\\users\\harsh\\anaconda\\lib\\site-packages (from speechbrain) (0.34.4)\n",
      "Requirement already satisfied: filelock in c:\\users\\harsh\\anaconda\\lib\\site-packages (from torch) (3.17.0)\n",
      "Requirement already satisfied: typing-extensions>=4.10.0 in c:\\users\\harsh\\anaconda\\lib\\site-packages (from torch) (4.12.2)\n",
      "Requirement already satisfied: sympy>=1.13.3 in c:\\users\\harsh\\anaconda\\lib\\site-packages (from torch) (1.13.3)\n",
      "Requirement already satisfied: networkx in c:\\users\\harsh\\anaconda\\lib\\site-packages (from torch) (3.4.2)\n",
      "Requirement already satisfied: jinja2 in c:\\users\\harsh\\anaconda\\lib\\site-packages (from torch) (3.1.6)\n",
      "Requirement already satisfied: fsspec in c:\\users\\harsh\\anaconda\\lib\\site-packages (from torch) (2025.3.2)\n",
      "Requirement already satisfied: setuptools in c:\\users\\harsh\\anaconda\\lib\\site-packages (from torch) (72.1.0)\n",
      "Requirement already satisfied: mpmath<1.4,>=1.1.0 in c:\\users\\harsh\\anaconda\\lib\\site-packages (from sympy>=1.13.3->torch) (1.3.0)\n",
      "Requirement already satisfied: pyyaml>=5.1 in c:\\users\\harsh\\anaconda\\lib\\site-packages (from huggingface_hub->speechbrain) (6.0.2)\n",
      "Requirement already satisfied: requests in c:\\users\\harsh\\anaconda\\lib\\site-packages (from huggingface_hub->speechbrain) (2.32.3)\n",
      "Requirement already satisfied: colorama in c:\\users\\harsh\\appdata\\roaming\\python\\python313\\site-packages (from tqdm->speechbrain) (0.4.6)\n",
      "Requirement already satisfied: ruamel.yaml>=0.17.28 in c:\\users\\harsh\\anaconda\\lib\\site-packages (from hyperpyyaml->speechbrain) (0.18.10)\n",
      "Requirement already satisfied: MarkupSafe>=2.0 in c:\\users\\harsh\\anaconda\\lib\\site-packages (from jinja2->torch) (3.0.2)\n",
      "Requirement already satisfied: charset-normalizer<4,>=2 in c:\\users\\harsh\\anaconda\\lib\\site-packages (from requests->huggingface_hub->speechbrain) (3.3.2)\n",
      "Requirement already satisfied: idna<4,>=2.5 in c:\\users\\harsh\\anaconda\\lib\\site-packages (from requests->huggingface_hub->speechbrain) (3.7)\n",
      "Requirement already satisfied: urllib3<3,>=1.21.1 in c:\\users\\harsh\\anaconda\\lib\\site-packages (from requests->huggingface_hub->speechbrain) (2.3.0)\n",
      "Requirement already satisfied: certifi>=2017.4.17 in c:\\users\\harsh\\anaconda\\lib\\site-packages (from requests->huggingface_hub->speechbrain) (2025.4.26)\n"
     ]
    }
   ],
   "source": [
    "!pip install speechbrain torch torchaudio"
   ]
  },
  {
   "cell_type": "code",
   "execution_count": 4,
   "id": "d2d67542-f9a8-4653-acac-6fa7ab8a1b22",
   "metadata": {},
   "outputs": [
    {
     "name": "stderr",
     "output_type": "stream",
     "text": [
      "C:\\Users\\harsh\\anaconda\\Lib\\site-packages\\speechbrain\\utils\\torch_audio_backend.py:57: UserWarning: torchaudio._backend.list_audio_backends has been deprecated. This deprecation is part of a large refactoring effort to transition TorchAudio into a maintenance phase. The decoding and encoding capabilities of PyTorch for both audio and video are being consolidated into TorchCodec. Please see https://github.com/pytorch/audio/issues/3902 for more information. It will be removed from the 2.9 release. \n",
      "  available_backends = torchaudio.list_audio_backends()\n",
      "C:\\Users\\harsh\\anaconda\\Lib\\site-packages\\speechbrain\\utils\\autocast.py:188: FutureWarning: `torch.cuda.amp.custom_fwd(args...)` is deprecated. Please use `torch.amp.custom_fwd(args..., device_type='cuda')` instead.\n",
      "  wrapped_fwd = torch.cuda.amp.custom_fwd(fwd, cast_inputs=cast_inputs)\n",
      "C:\\Users\\harsh\\anaconda\\Lib\\site-packages\\speechbrain\\utils\\parameter_transfer.py:234: UserWarning: Requested Pretrainer collection using symlinks on Windows. This might not work; see `LocalStrategy` documentation. Consider unsetting `collect_in` in Pretrainer to avoid symlinking altogether.\n",
      "  warnings.warn(\n",
      "C:\\Users\\harsh\\anaconda\\Lib\\site-packages\\torchaudio\\_backend\\utils.py:213: UserWarning: In 2.9, this function's implementation will be changed to use torchaudio.load_with_torchcodec` under the hood. Some parameters like ``normalize``, ``format``, ``buffer_size``, and ``backend`` will be ignored. We recommend that you port your code to rely directly on TorchCodec's decoder instead: https://docs.pytorch.org/torchcodec/stable/generated/torchcodec.decoders.AudioDecoder.html#torchcodec.decoders.AudioDecoder.\n",
      "  warnings.warn(\n"
     ]
    },
    {
     "name": "stdout",
     "output_type": "stream",
     "text": [
      "Comparing files:\n",
      "  Enrolled: save.wav\n",
      "  Test: test.wav\n",
      "Match (same speaker?): True\n"
     ]
    }
   ],
   "source": [
    "from speechbrain.inference import SpeakerRecognition\n",
    "from speechbrain.utils.fetching import LocalStrategy\n",
    "\n",
    "model = SpeakerRecognition.from_hparams(\n",
    "    source=\"speechbrain/spkrec-ecapa-voxceleb\",\n",
    "    savedir=\"pretrained_models/spkrec-ecapa-voxceleb\",\n",
    "    local_strategy=LocalStrategy.COPY\n",
    ")\n",
    "\n",
    "# Load the pretrained speaker recognition model\n",
    "model = SpeakerRecognition.from_hparams(\n",
    "    source=\"speechbrain/spkrec-ecapa-voxceleb\",\n",
    "    savedir=\"pretrained_models/spkrec-ecapa-voxceleb\"\n",
    ")\n",
    "\n",
    "# Specify the two files you want to compare here:\n",
    "enrolled_file = \"save.wav\"   # Replace with your enrolled speaker audio path\n",
    "test_file = \"test.wav\"       # Replace with your test audio path\n",
    "\n",
    "# Perform verification: returns similarity score and match (True/False)\n",
    "_, prediction = model.verify_files(enrolled_file, test_file)\n",
    "\n",
    "# Print output exactly as requested\n",
    "print(\"Comparing files:\")\n",
    "print(f\"  Enrolled: {enrolled_file}\")\n",
    "print(f\"  Test: {test_file}\")\n",
    "print(f\"Match (same speaker?): {prediction.item()}\")"
   ]
  },
  {
   "cell_type": "code",
   "execution_count": 5,
   "id": "73cee113-1c97-4e10-9f5f-ba683b004ca3",
   "metadata": {},
   "outputs": [
    {
     "name": "stdout",
     "output_type": "stream",
     "text": [
      "Comparing files:\n",
      "  Enrolled: v1.wav\n",
      "  Test: v3.wav\n",
      "Match (same speaker?): False\n",
      "Confidence (similarity score): 0.0056\n"
     ]
    }
   ],
   "source": [
    "from speechbrain.pretrained import SpeakerRecognition\n",
    "\n",
    "# Load the pretrained speaker recognition model\n",
    "model = SpeakerRecognition.from_hparams(\n",
    "    source=\"speechbrain/spkrec-ecapa-voxceleb\",\n",
    "    savedir=\"pretrained_models/spkrec-ecapa-voxceleb\"\n",
    ")\n",
    "\n",
    "# Specify the two files you want to compare here (from the current folder)\n",
    "enrolled_file = \"v1.wav\"    # Replace with your enrolled speaker audio filename\n",
    "test_file = \"v3.wav\"      # Replace with your test audio filename\n",
    "\n",
    "# Perform verification: returns similarity score and match (True/False)\n",
    "score, prediction = model.verify_files(enrolled_file, test_file)\n",
    "\n",
    "# Print output exactly as requested\n",
    "print(\"Comparing files:\")\n",
    "print(f\"  Enrolled: {enrolled_file}\")\n",
    "print(f\"  Test: {test_file}\")\n",
    "print(f\"Match (same speaker?): {prediction.item()}\")\n",
    "print(f\"Confidence (similarity score): {score.item():.4f}\")"
   ]
  },
  {
   "cell_type": "code",
   "execution_count": null,
   "id": "c38097b4-9367-4420-b929-28f87a064c3d",
   "metadata": {},
   "outputs": [],
   "source": []
  }
 ],
 "metadata": {
  "kernelspec": {
   "display_name": "Python 3 (ipykernel)",
   "language": "python",
   "name": "python3"
  },
  "language_info": {
   "codemirror_mode": {
    "name": "ipython",
    "version": 3
   },
   "file_extension": ".py",
   "mimetype": "text/x-python",
   "name": "python",
   "nbconvert_exporter": "python",
   "pygments_lexer": "ipython3",
   "version": "3.13.5"
  }
 },
 "nbformat": 4,
 "nbformat_minor": 5
}
