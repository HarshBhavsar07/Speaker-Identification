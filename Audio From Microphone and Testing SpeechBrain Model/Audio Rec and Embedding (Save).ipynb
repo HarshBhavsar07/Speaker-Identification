{
 "cells": [
  {
   "cell_type": "code",
   "execution_count": 1,
   "id": "5332cb94-1155-4658-b5e9-b8356204bbe9",
   "metadata": {},
   "outputs": [],
   "source": [
    "import sounddevice as sd\n",
    "from scipy.io.wavfile import write"
   ]
  },
  {
   "cell_type": "code",
   "execution_count": 2,
   "id": "88f5c2e3-3d61-4cf8-9125-d0913be131c0",
   "metadata": {},
   "outputs": [
    {
     "name": "stdout",
     "output_type": "stream",
     "text": [
      " Speak now! Recording...\n",
      " Recording complete!\n",
      " Audio saved as: save.wav\n"
     ]
    }
   ],
   "source": [
    "fs = 16000          # Sampling rate (16kHz)\n",
    "duration = 5        # Recording duration in seconds\n",
    "filename = \"save.wav\"  # Desired fixed audio file name\n",
    "\n",
    "print(\" Speak now! Recording...\")\n",
    "audio = sd.rec(int(duration * fs), samplerate=fs, channels=1)\n",
    "sd.wait()\n",
    "print(\" Recording complete!\")\n",
    "\n",
    "write(filename, fs, audio)\n",
    "print(f\" Audio saved as: {filename}\")"
   ]
  },
  {
   "cell_type": "code",
   "execution_count": 3,
   "id": "106b1c6d-eaa5-4794-908b-a09de326cb44",
   "metadata": {},
   "outputs": [
    {
     "name": "stdout",
     "output_type": "stream",
     "text": [
      "Loaded the voice encoder model on cpu in 0.02 seconds.\n",
      "Embedading saved!\n"
     ]
    }
   ],
   "source": [
    "import numpy as np\n",
    "import os \n",
    "from resemblyzer import VoiceEncoder, preprocess_wav\n",
    "\n",
    "audio_path = \"save.wav\"\n",
    "embedding_filename = \"save.npy\"\n",
    "\n",
    "if not os.path.exists(audio_path):\n",
    "    print(\"Audio file not found.\")\n",
    "    exit()\n",
    "\n",
    "# Encode\n",
    "wav = preprocess_wav(audio_path)\n",
    "encoder = VoiceEncoder()\n",
    "embedding = encoder.embed_utterance(wav)\n",
    "np.save(embedding_filename, embedding)\n",
    "\n",
    "print(\"Embedading saved!\")\n"
   ]
  },
  {
   "cell_type": "code",
   "execution_count": 4,
   "id": "d81d0275-fde3-41f8-96b0-1b0ca03126d3",
   "metadata": {},
   "outputs": [
    {
     "name": "stdout",
     "output_type": "stream",
     "text": [
      "Current Directory: C:\\Users\\harsh\\Oizom Final\\Audio From Microphone and Testing SpeechBrain Model\n",
      "Files in this directory: ['.ipynb_checkpoints', 'Audio Rec and Embedding (Save).ipynb', 'Audio Rec and Embedding (test).ipynb', 'save.npy', 'save.wav', 'spkrec-ecapa-voxceleb model test.ipynb']\n"
     ]
    }
   ],
   "source": [
    "import os\n",
    "\n",
    "print(\"Current Directory:\", os.getcwd())\n",
    "print(\"Files in this directory:\", os.listdir())\n"
   ]
  },
  {
   "cell_type": "code",
   "execution_count": null,
   "id": "442571b0-5bd0-4b72-92d8-6508c982601f",
   "metadata": {},
   "outputs": [],
   "source": []
  }
 ],
 "metadata": {
  "kernelspec": {
   "display_name": "Python 3 (ipykernel)",
   "language": "python",
   "name": "python3"
  },
  "language_info": {
   "codemirror_mode": {
    "name": "ipython",
    "version": 3
   },
   "file_extension": ".py",
   "mimetype": "text/x-python",
   "name": "python",
   "nbconvert_exporter": "python",
   "pygments_lexer": "ipython3",
   "version": "3.13.5"
  }
 },
 "nbformat": 4,
 "nbformat_minor": 5
}
